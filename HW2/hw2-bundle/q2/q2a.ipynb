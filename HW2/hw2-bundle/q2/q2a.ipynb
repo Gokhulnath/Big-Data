{
  "nbformat": 4,
  "nbformat_minor": 0,
  "metadata": {
    "colab": {
      "provenance": []
    },
    "kernelspec": {
      "name": "python3",
      "display_name": "Python 3"
    }
  },
  "cells": [
    {
      "cell_type": "code",
      "metadata": {
        "id": "kWBayGgLfiRi",
        "colab": {
          "base_uri": "https://localhost:8080/"
        },
        "outputId": "26941bdb-82a4-4ede-a368-50efb9730536"
      },
      "source": [
        "!pip install pyspark\n",
        "!pip install -U -q PyDrive\n",
        "!apt install openjdk-8-jdk-headless -qq\n",
        "import os\n",
        "os.environ[\"JAVA_HOME\"] = \"/usr/lib/jvm/java-8-openjdk-amd64\""
      ],
      "execution_count": 1,
      "outputs": [
        {
          "output_type": "stream",
          "name": "stdout",
          "text": [
            "Requirement already satisfied: pyspark in /usr/local/lib/python3.10/dist-packages (3.5.3)\n",
            "Requirement already satisfied: py4j==0.10.9.7 in /usr/local/lib/python3.10/dist-packages (from pyspark) (0.10.9.7)\n",
            "The following additional packages will be installed:\n",
            "  libxtst6 openjdk-8-jre-headless\n",
            "Suggested packages:\n",
            "  openjdk-8-demo openjdk-8-source libnss-mdns fonts-dejavu-extra fonts-nanum fonts-ipafont-gothic\n",
            "  fonts-ipafont-mincho fonts-wqy-microhei fonts-wqy-zenhei fonts-indic\n",
            "The following NEW packages will be installed:\n",
            "  libxtst6 openjdk-8-jdk-headless openjdk-8-jre-headless\n",
            "0 upgraded, 3 newly installed, 0 to remove and 49 not upgraded.\n",
            "Need to get 39.6 MB of archives.\n",
            "After this operation, 144 MB of additional disk space will be used.\n",
            "Selecting previously unselected package libxtst6:amd64.\n",
            "(Reading database ... 123629 files and directories currently installed.)\n",
            "Preparing to unpack .../libxtst6_2%3a1.2.3-1build4_amd64.deb ...\n",
            "Unpacking libxtst6:amd64 (2:1.2.3-1build4) ...\n",
            "Selecting previously unselected package openjdk-8-jre-headless:amd64.\n",
            "Preparing to unpack .../openjdk-8-jre-headless_8u422-b05-1~22.04_amd64.deb ...\n",
            "Unpacking openjdk-8-jre-headless:amd64 (8u422-b05-1~22.04) ...\n",
            "Selecting previously unselected package openjdk-8-jdk-headless:amd64.\n",
            "Preparing to unpack .../openjdk-8-jdk-headless_8u422-b05-1~22.04_amd64.deb ...\n",
            "Unpacking openjdk-8-jdk-headless:amd64 (8u422-b05-1~22.04) ...\n",
            "Setting up libxtst6:amd64 (2:1.2.3-1build4) ...\n",
            "Setting up openjdk-8-jre-headless:amd64 (8u422-b05-1~22.04) ...\n",
            "update-alternatives: using /usr/lib/jvm/java-8-openjdk-amd64/jre/bin/orbd to provide /usr/bin/orbd (orbd) in auto mode\n",
            "update-alternatives: using /usr/lib/jvm/java-8-openjdk-amd64/jre/bin/servertool to provide /usr/bin/servertool (servertool) in auto mode\n",
            "update-alternatives: using /usr/lib/jvm/java-8-openjdk-amd64/jre/bin/tnameserv to provide /usr/bin/tnameserv (tnameserv) in auto mode\n",
            "Setting up openjdk-8-jdk-headless:amd64 (8u422-b05-1~22.04) ...\n",
            "update-alternatives: using /usr/lib/jvm/java-8-openjdk-amd64/bin/clhsdb to provide /usr/bin/clhsdb (clhsdb) in auto mode\n",
            "update-alternatives: using /usr/lib/jvm/java-8-openjdk-amd64/bin/extcheck to provide /usr/bin/extcheck (extcheck) in auto mode\n",
            "update-alternatives: using /usr/lib/jvm/java-8-openjdk-amd64/bin/hsdb to provide /usr/bin/hsdb (hsdb) in auto mode\n",
            "update-alternatives: using /usr/lib/jvm/java-8-openjdk-amd64/bin/idlj to provide /usr/bin/idlj (idlj) in auto mode\n",
            "update-alternatives: using /usr/lib/jvm/java-8-openjdk-amd64/bin/javah to provide /usr/bin/javah (javah) in auto mode\n",
            "update-alternatives: using /usr/lib/jvm/java-8-openjdk-amd64/bin/jhat to provide /usr/bin/jhat (jhat) in auto mode\n",
            "update-alternatives: using /usr/lib/jvm/java-8-openjdk-amd64/bin/jsadebugd to provide /usr/bin/jsadebugd (jsadebugd) in auto mode\n",
            "update-alternatives: using /usr/lib/jvm/java-8-openjdk-amd64/bin/native2ascii to provide /usr/bin/native2ascii (native2ascii) in auto mode\n",
            "update-alternatives: using /usr/lib/jvm/java-8-openjdk-amd64/bin/schemagen to provide /usr/bin/schemagen (schemagen) in auto mode\n",
            "update-alternatives: using /usr/lib/jvm/java-8-openjdk-amd64/bin/wsgen to provide /usr/bin/wsgen (wsgen) in auto mode\n",
            "update-alternatives: using /usr/lib/jvm/java-8-openjdk-amd64/bin/wsimport to provide /usr/bin/wsimport (wsimport) in auto mode\n",
            "update-alternatives: using /usr/lib/jvm/java-8-openjdk-amd64/bin/xjc to provide /usr/bin/xjc (xjc) in auto mode\n",
            "Processing triggers for libc-bin (2.35-0ubuntu3.4) ...\n",
            "/sbin/ldconfig.real: /usr/local/lib/libtbbbind.so.3 is not a symbolic link\n",
            "\n",
            "/sbin/ldconfig.real: /usr/local/lib/libur_adapter_opencl.so.0 is not a symbolic link\n",
            "\n",
            "/sbin/ldconfig.real: /usr/local/lib/libtbb.so.12 is not a symbolic link\n",
            "\n",
            "/sbin/ldconfig.real: /usr/local/lib/libtbbbind_2_5.so.3 is not a symbolic link\n",
            "\n",
            "/sbin/ldconfig.real: /usr/local/lib/libur_adapter_level_zero.so.0 is not a symbolic link\n",
            "\n",
            "/sbin/ldconfig.real: /usr/local/lib/libur_loader.so.0 is not a symbolic link\n",
            "\n",
            "/sbin/ldconfig.real: /usr/local/lib/libtbbmalloc.so.2 is not a symbolic link\n",
            "\n",
            "/sbin/ldconfig.real: /usr/local/lib/libtbbmalloc_proxy.so.2 is not a symbolic link\n",
            "\n",
            "/sbin/ldconfig.real: /usr/local/lib/libtbbbind_2_0.so.3 is not a symbolic link\n",
            "\n"
          ]
        }
      ]
    },
    {
      "cell_type": "code",
      "metadata": {
        "id": "mRBx_-cYgRBQ"
      },
      "source": [
        "import pandas as pd\n",
        "import numpy as np\n",
        "import matplotlib.pyplot as plt\n",
        "%matplotlib inline\n",
        "\n",
        "import pyspark\n",
        "from pyspark.sql import *\n",
        "from pyspark.sql.functions import *\n",
        "from pyspark import SparkContext, SparkConf"
      ],
      "execution_count": 26,
      "outputs": []
    },
    {
      "cell_type": "code",
      "metadata": {
        "id": "kxDf1x_agjjL"
      },
      "source": [
        "# create the session\n",
        "conf = SparkConf().set(\"spark.ui.port\", \"4050\")\n",
        "\n",
        "# create the context\n",
        "sc = pyspark.SparkContext(conf=conf)\n",
        "spark = SparkSession.builder.getOrCreate()"
      ],
      "execution_count": 27,
      "outputs": []
    },
    {
      "cell_type": "code",
      "metadata": {
        "id": "Q7N7XozXjMC_"
      },
      "source": [
        "def parseVector(line):\n",
        "  return np.array([float(x) for x in line.split(\" \")])\n",
        "\n",
        "def closestPoint(p, centroids, method = 'd2'):\n",
        "  bestIndex = -1\n",
        "  distance = float(\"+inf\")\n",
        "  for i in range(len(centroids)):\n",
        "    if method == 'd2':\n",
        "      temp_distance = np.sum((p - centroids[i]) ** 2)\n",
        "    elif method == 'd1':\n",
        "      temp_distance = np.sum(np.abs(p - centroids[i]))\n",
        "\n",
        "    if temp_distance < distance:\n",
        "      distance = temp_distance\n",
        "      bestIndex = i\n",
        "\n",
        "  return bestIndex, distance"
      ],
      "execution_count": 29,
      "outputs": []
    },
    {
      "cell_type": "code",
      "metadata": {
        "id": "1Xwci47agvWi"
      },
      "source": [
        "data = spark.read.text('data.txt').rdd.map(lambda x: x[0]).map(parseVector)\n",
        "c1 = np.loadtxt('c1.txt', delimiter = ' ')\n",
        "c2 = np.loadtxt('c2.txt', delimiter = ' ')\n",
        "MAX_ITER = 20\n",
        "centroids1 = c1.copy()\n",
        "centroids2 = c2.copy()\n",
        "\n",
        "error_c1_Euclidean_distance = []\n",
        "error_c2_Euclidean_distance = []\n",
        "\n",
        "for ITER in range(MAX_ITER):\n",
        "  closest = data.map(lambda p: (closestPoint(p, centroids1, 'd2')[0], (p, 1, closestPoint(p, centroids1, 'd2')[1])))\n",
        "  pointStats = closest.reduceByKey(lambda p1_c1, p2_c2: (p1_c1[0] + p2_c2[0], p1_c1[1] + p2_c2[1]))\n",
        "  newCentroids = pointStats.map(lambda st: (st[0], st[1][0] / st[1][1])).collect()\n",
        "\n",
        "  error = np.sum(np.array(list(x[1][2] for x in closest.collect())))\n",
        "  error_c1_Euclidean_distance.append(error)\n",
        "\n",
        "  for (i, p) in newCentroids:\n",
        "    centroids1[i] = p\n",
        "\n",
        "for ITER in range(MAX_ITER):\n",
        "  closest = data.map(lambda p: (closestPoint(p, centroids2, 'd2')[0], (p, 1, closestPoint(p, centroids2, 'd2')[1])))\n",
        "  pointStats = closest.reduceByKey(lambda p1_c1, p2_c2: (p1_c1[0] + p2_c2[0], p1_c1[1] + p2_c2[1]))\n",
        "  newCentroids = pointStats.map(lambda st: (st[0], st[1][0] / st[1][1])).collect()\n",
        "\n",
        "  error = np.sum(np.array(list(x[1][2] for x in closest.collect())))\n",
        "  error_c2_Euclidean_distance.append(error)\n",
        "\n",
        "  for (i, p) in newCentroids:\n",
        "    centroids2[i] = p"
      ],
      "execution_count": 30,
      "outputs": []
    },
    {
      "cell_type": "code",
      "metadata": {
        "id": "VLQeR2-8W04C",
        "colab": {
          "base_uri": "https://localhost:8080/",
          "height": 508
        },
        "outputId": "33693989-a9ae-473c-dfa1-362a04fe46dc"
      },
      "source": [
        "plt.figure()\n",
        "plt.plot(list(range(1, 21)), np.array(error_c1_Euclidean_distance) / 100000000, label ='c1')\n",
        "plt.plot(list(range(1, 21)), np.array(error_c2_Euclidean_distance) / 100000000, label = 'c2')\n",
        "plt.xticks(list(range(1, 21, 2)))\n",
        "plt.xlabel('iteration')\n",
        "plt.ylabel('cost (1e8)')\n",
        "plt.title('k-means')\n",
        "plt.legend(['c1', 'c2'])\n",
        "plt.savefig('Euclidean_dist.png')\n",
        "plt.show()\n",
        "print(\"The percentage change in c1 by using Euclidean distance is :{}\".format((error_c1_Euclidean_distance[0] - error_c1_Euclidean_distance[10]) / error_c1_Euclidean_distance[0]))\n",
        "print(\"The percentage change in c2 by using Euclidean distance is :{}\".format((error_c2_Euclidean_distance[0] - error_c2_Euclidean_distance[10]) / error_c2_Euclidean_distance[0]))"
      ],
      "execution_count": 31,
      "outputs": [
        {
          "output_type": "display_data",
          "data": {
            "text/plain": [
              "<Figure size 640x480 with 1 Axes>"
            ],
            "image/png": "[encoded data removed]"
          },
          "metadata": {}
        },
        {
          "output_type": "stream",
          "name": "stdout",
          "text": [
            "The percentage change in c1 by using Euclidean distance is :0.2648391714456054\n",
            "The percentage change in c2 by using Euclidean distance is :0.7669795594605942\n"
          ]
        }
      ]
    },
    {
      "cell_type": "code",
      "source": [
        "sc.stop()"
      ],
      "metadata": {
        "id": "HWTSy5gFNl-f"
      },
      "execution_count": 32,
      "outputs": []
    }
  ]
}