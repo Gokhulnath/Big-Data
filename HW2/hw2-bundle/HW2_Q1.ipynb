{
  "nbformat": 4,
  "nbformat_minor": 0,
  "metadata": {
    "colab": {
      "provenance": []
    },
    "kernelspec": {
      "name": "python3",
      "display_name": "Python 3"
    },
    "language_info": {
      "name": "python"
    }
  },
  "cells": [
    {
      "cell_type": "code",
      "execution_count": 3,
      "metadata": {
        "colab": {
          "base_uri": "https://localhost:8080/"
        },
        "id": "eOrridP6JnUK",
        "outputId": "02a08bfe-5052-4aca-a885-b6a91ef80cc6"
      },
      "outputs": [
        {
          "output_type": "stream",
          "name": "stdout",
          "text": [
            "The matrix M :\n",
            " [[1 2]\n",
            " [2 1]\n",
            " [3 4]\n",
            " [4 3]]\n",
            "U :\n",
            " [[-0.27854301  0.5       ]\n",
            " [-0.27854301 -0.5       ]\n",
            " [-0.64993368  0.5       ]\n",
            " [-0.64993368 -0.5       ]]\n",
            "Singular matrix :\n",
            " [7.61577311 1.41421356]\n",
            "V transpose :\n",
            " [[-0.70710678 -0.70710678]\n",
            " [-0.70710678  0.70710678]]\n",
            "M_transpose * M = \n",
            " [[30 28]\n",
            " [28 30]]\n",
            "Evals :\n",
            " [58.  2.]\n",
            "Evecs :\n",
            " [[ 0.70710678 -0.70710678]\n",
            " [ 0.70710678  0.70710678]]\n"
          ]
        }
      ],
      "source": [
        "from scipy import linalg\n",
        "import numpy as np\n",
        "\n",
        "# Initialize M\n",
        "M = np.array([[1, 2], [2, 1], [3, 4], [4, 3]])\n",
        "print(\"The matrix M :\\n\", M)\n",
        "\n",
        "U_mat, s_mat, Vh_mat = linalg.svd(M, full_matrices = False)\n",
        "\n",
        "print(\"U :\\n\", U_mat)\n",
        "print(\"Singular matrix :\\n\", s_mat)\n",
        "print(\"V transpose :\\n\", Vh_mat)\n",
        "\n",
        "M_transpose = M.T\n",
        "print(\"M_transpose * M = \\n\", np.matmul(M_transpose, M))\n",
        "w, v = linalg.eigh(np.matmul(M_transpose, M))\n",
        "idx = np.argsort(-w)\n",
        "w = w[idx]\n",
        "v = v[:,idx]\n",
        "print(\"Evals :\\n\", w)\n",
        "print(\"Evecs :\\n\", v)"
      ]
    }
  ]
}