{
  "cells": [
    {
      "cell_type": "markdown",
      "metadata": {
        "id": "kPt5q27L5557"
      },
      "source": [
        "# CS483 - Colab 3\n",
        "## K-Means & PCA"
      ]
    },
    {
      "cell_type": "markdown",
      "metadata": {
        "id": "p0-YhEpP_Ds-"
      },
      "source": [
        "### Setup"
      ]
    },
    {
      "cell_type": "markdown",
      "metadata": {
        "id": "Zsj5WYpR9QId"
      },
      "source": [
        "Let's set up Spark on your Colab environment.  Run the cell below!"
      ]
    },
    {
      "cell_type": "code",
      "execution_count": 1,
      "metadata": {
        "colab": {
          "base_uri": "https://localhost:8080/"
        },
        "id": "k-qHai2252mI",
        "outputId": "b86d39f6-71ef-406b-922f-1076586b4c4e"
      },
      "outputs": [
        {
          "output_type": "stream",
          "name": "stdout",
          "text": [
            "Collecting pyspark\n",
            "  Downloading pyspark-3.5.3.tar.gz (317.3 MB)\n",
            "\u001b[2K     \u001b[90m━━━━━━━━━━━━━━━━━━━━━━━━━━━━━━━━━━━━━━━━\u001b[0m \u001b[32m317.3/317.3 MB\u001b[0m \u001b[31m2.4 MB/s\u001b[0m eta \u001b[36m0:00:00\u001b[0m\n",
            "\u001b[?25h  Preparing metadata (setup.py) ... \u001b[?25l\u001b[?25hdone\n",
            "Requirement already satisfied: py4j==0.10.9.7 in /usr/local/lib/python3.10/dist-packages (from pyspark) (0.10.9.7)\n",
            "Building wheels for collected packages: pyspark\n",
            "  Building wheel for pyspark (setup.py) ... \u001b[?25l\u001b[?25hdone\n",
            "  Created wheel for pyspark: filename=pyspark-3.5.3-py2.py3-none-any.whl size=317840625 sha256=58a61406d465f624206b24b7513d047f3620f955339dfa04bbd251777a31d87a\n",
            "  Stored in directory: /root/.cache/pip/wheels/1b/3a/92/28b93e2fbfdbb07509ca4d6f50c5e407f48dce4ddbda69a4ab\n",
            "Successfully built pyspark\n",
            "Installing collected packages: pyspark\n",
            "Successfully installed pyspark-3.5.3\n",
            "The following additional packages will be installed:\n",
            "  libxtst6 openjdk-8-jre-headless\n",
            "Suggested packages:\n",
            "  openjdk-8-demo openjdk-8-source libnss-mdns fonts-dejavu-extra fonts-nanum fonts-ipafont-gothic\n",
            "  fonts-ipafont-mincho fonts-wqy-microhei fonts-wqy-zenhei fonts-indic\n",
            "The following NEW packages will be installed:\n",
            "  libxtst6 openjdk-8-jdk-headless openjdk-8-jre-headless\n",
            "0 upgraded, 3 newly installed, 0 to remove and 49 not upgraded.\n",
            "Need to get 39.6 MB of archives.\n",
            "After this operation, 144 MB of additional disk space will be used.\n",
            "Selecting previously unselected package libxtst6:amd64.\n",
            "(Reading database ... 123621 files and directories currently installed.)\n",
            "Preparing to unpack .../libxtst6_2%3a1.2.3-1build4_amd64.deb ...\n",
            "Unpacking libxtst6:amd64 (2:1.2.3-1build4) ...\n",
            "Selecting previously unselected package openjdk-8-jre-headless:amd64.\n",
            "Preparing to unpack .../openjdk-8-jre-headless_8u422-b05-1~22.04_amd64.deb ...\n",
            "Unpacking openjdk-8-jre-headless:amd64 (8u422-b05-1~22.04) ...\n",
            "Selecting previously unselected package openjdk-8-jdk-headless:amd64.\n",
            "Preparing to unpack .../openjdk-8-jdk-headless_8u422-b05-1~22.04_amd64.deb ...\n",
            "Unpacking openjdk-8-jdk-headless:amd64 (8u422-b05-1~22.04) ...\n",
            "Setting up libxtst6:amd64 (2:1.2.3-1build4) ...\n",
            "Setting up openjdk-8-jre-headless:amd64 (8u422-b05-1~22.04) ...\n",
            "update-alternatives: using /usr/lib/jvm/java-8-openjdk-amd64/jre/bin/orbd to provide /usr/bin/orbd (orbd) in auto mode\n",
            "update-alternatives: using /usr/lib/jvm/java-8-openjdk-amd64/jre/bin/servertool to provide /usr/bin/servertool (servertool) in auto mode\n",
            "update-alternatives: using /usr/lib/jvm/java-8-openjdk-amd64/jre/bin/tnameserv to provide /usr/bin/tnameserv (tnameserv) in auto mode\n",
            "Setting up openjdk-8-jdk-headless:amd64 (8u422-b05-1~22.04) ...\n",
            "update-alternatives: using /usr/lib/jvm/java-8-openjdk-amd64/bin/clhsdb to provide /usr/bin/clhsdb (clhsdb) in auto mode\n",
            "update-alternatives: using /usr/lib/jvm/java-8-openjdk-amd64/bin/extcheck to provide /usr/bin/extcheck (extcheck) in auto mode\n",
            "update-alternatives: using /usr/lib/jvm/java-8-openjdk-amd64/bin/hsdb to provide /usr/bin/hsdb (hsdb) in auto mode\n",
            "update-alternatives: using /usr/lib/jvm/java-8-openjdk-amd64/bin/idlj to provide /usr/bin/idlj (idlj) in auto mode\n",
            "update-alternatives: using /usr/lib/jvm/java-8-openjdk-amd64/bin/javah to provide /usr/bin/javah (javah) in auto mode\n",
            "update-alternatives: using /usr/lib/jvm/java-8-openjdk-amd64/bin/jhat to provide /usr/bin/jhat (jhat) in auto mode\n",
            "update-alternatives: using /usr/lib/jvm/java-8-openjdk-amd64/bin/jsadebugd to provide /usr/bin/jsadebugd (jsadebugd) in auto mode\n",
            "update-alternatives: using /usr/lib/jvm/java-8-openjdk-amd64/bin/native2ascii to provide /usr/bin/native2ascii (native2ascii) in auto mode\n",
            "update-alternatives: using /usr/lib/jvm/java-8-openjdk-amd64/bin/schemagen to provide /usr/bin/schemagen (schemagen) in auto mode\n",
            "update-alternatives: using /usr/lib/jvm/java-8-openjdk-amd64/bin/wsgen to provide /usr/bin/wsgen (wsgen) in auto mode\n",
            "update-alternatives: using /usr/lib/jvm/java-8-openjdk-amd64/bin/wsimport to provide /usr/bin/wsimport (wsimport) in auto mode\n",
            "update-alternatives: using /usr/lib/jvm/java-8-openjdk-amd64/bin/xjc to provide /usr/bin/xjc (xjc) in auto mode\n",
            "Processing triggers for libc-bin (2.35-0ubuntu3.4) ...\n",
            "/sbin/ldconfig.real: /usr/local/lib/libtbbmalloc_proxy.so.2 is not a symbolic link\n",
            "\n",
            "/sbin/ldconfig.real: /usr/local/lib/libtbbbind_2_5.so.3 is not a symbolic link\n",
            "\n",
            "/sbin/ldconfig.real: /usr/local/lib/libur_adapter_opencl.so.0 is not a symbolic link\n",
            "\n",
            "/sbin/ldconfig.real: /usr/local/lib/libtbbmalloc.so.2 is not a symbolic link\n",
            "\n",
            "/sbin/ldconfig.real: /usr/local/lib/libtbbbind_2_0.so.3 is not a symbolic link\n",
            "\n",
            "/sbin/ldconfig.real: /usr/local/lib/libtbb.so.12 is not a symbolic link\n",
            "\n",
            "/sbin/ldconfig.real: /usr/local/lib/libur_adapter_level_zero.so.0 is not a symbolic link\n",
            "\n",
            "/sbin/ldconfig.real: /usr/local/lib/libur_loader.so.0 is not a symbolic link\n",
            "\n",
            "/sbin/ldconfig.real: /usr/local/lib/libtbbbind.so.3 is not a symbolic link\n",
            "\n"
          ]
        }
      ],
      "source": [
        "!pip install pyspark\n",
        "!pip install -U -q PyDrive\n",
        "!apt install openjdk-8-jdk-headless -qq\n",
        "import os\n",
        "os.environ[\"JAVA_HOME\"] = \"/usr/lib/jvm/java-8-openjdk-amd64\""
      ]
    },
    {
      "cell_type": "markdown",
      "metadata": {
        "id": "qwtlO4_m_LbQ"
      },
      "source": [
        "Now we import some of the libraries usually needed by our workload.\n",
        "\n",
        "\n",
        "\n"
      ]
    },
    {
      "cell_type": "code",
      "execution_count": 2,
      "metadata": {
        "id": "twk-K-jilWK7"
      },
      "outputs": [],
      "source": [
        "import pandas as pd\n",
        "import numpy as np\n",
        "import matplotlib.pyplot as plt\n",
        "%matplotlib inline\n",
        "\n",
        "import pyspark\n",
        "from pyspark.sql import *\n",
        "from pyspark.sql.types import *\n",
        "from pyspark.sql.functions import *\n",
        "from pyspark import SparkContext, SparkConf"
      ]
    },
    {
      "cell_type": "markdown",
      "metadata": {
        "id": "BtrJlMBt1Ela"
      },
      "source": [
        "Let's initialize the Spark context."
      ]
    },
    {
      "cell_type": "code",
      "execution_count": 3,
      "metadata": {
        "id": "KH91tEik9zZ3"
      },
      "outputs": [],
      "source": [
        "# create the session\n",
        "conf = SparkConf().set(\"spark.ui.port\", \"4050\")\n",
        "\n",
        "# create the context\n",
        "sc = pyspark.SparkContext(conf=conf)\n",
        "spark = SparkSession.builder.getOrCreate()"
      ]
    },
    {
      "cell_type": "markdown",
      "metadata": {
        "id": "kAYRX2PMm0L6"
      },
      "source": [
        "### Data Preprocessing"
      ]
    },
    {
      "cell_type": "markdown",
      "metadata": {
        "id": "7hXdMR6wnEIM"
      },
      "source": [
        "In this Colab, rather than downloading a file from Google Drive, we will load a famous machine learning dataset, the [Breast Cancer Wisconsin dataset](https://scikit-learn.org/stable/modules/generated/sklearn.datasets.load_breast_cancer.html), using the ```scikit-learn``` datasets loader."
      ]
    },
    {
      "cell_type": "code",
      "execution_count": 4,
      "metadata": {
        "id": "5K93ABEy9Zlo"
      },
      "outputs": [],
      "source": [
        "from sklearn.datasets import load_breast_cancer\n",
        "breast_cancer = load_breast_cancer()"
      ]
    },
    {
      "cell_type": "markdown",
      "metadata": {
        "id": "wpsaYOqRxar2"
      },
      "source": [
        "For convenience, given that the dataset is small, we first\n",
        "\n",
        "*   construct a Pandas dataframe\n",
        "*   tune the schema\n",
        "*   and convert it into a Spark dataframe."
      ]
    },
    {
      "cell_type": "code",
      "execution_count": 5,
      "metadata": {
        "colab": {
          "base_uri": "https://localhost:8080/"
        },
        "id": "Oitav_xhQD9w",
        "outputId": "4236bc9f-ad6e-4311-93c6-07d88970b010"
      },
      "outputs": [
        {
          "output_type": "stream",
          "name": "stdout",
          "text": [
            "root\n",
            " |-- mean radius: double (nullable = false)\n",
            " |-- mean texture: double (nullable = false)\n",
            " |-- mean perimeter: double (nullable = false)\n",
            " |-- mean area: double (nullable = false)\n",
            " |-- mean smoothness: double (nullable = false)\n",
            " |-- mean compactness: double (nullable = false)\n",
            " |-- mean concavity: double (nullable = false)\n",
            " |-- mean concave points: double (nullable = false)\n",
            " |-- mean symmetry: double (nullable = false)\n",
            " |-- mean fractal dimension: double (nullable = false)\n",
            " |-- radius error: double (nullable = false)\n",
            " |-- texture error: double (nullable = false)\n",
            " |-- perimeter error: double (nullable = false)\n",
            " |-- area error: double (nullable = false)\n",
            " |-- smoothness error: double (nullable = false)\n",
            " |-- compactness error: double (nullable = false)\n",
            " |-- concavity error: double (nullable = false)\n",
            " |-- concave points error: double (nullable = false)\n",
            " |-- symmetry error: double (nullable = false)\n",
            " |-- fractal dimension error: double (nullable = false)\n",
            " |-- worst radius: double (nullable = false)\n",
            " |-- worst texture: double (nullable = false)\n",
            " |-- worst perimeter: double (nullable = false)\n",
            " |-- worst area: double (nullable = false)\n",
            " |-- worst smoothness: double (nullable = false)\n",
            " |-- worst compactness: double (nullable = false)\n",
            " |-- worst concavity: double (nullable = false)\n",
            " |-- worst concave points: double (nullable = false)\n",
            " |-- worst symmetry: double (nullable = false)\n",
            " |-- worst fractal dimension: double (nullable = false)\n",
            " |-- features: array (nullable = false)\n",
            " |    |-- element: double (containsNull = false)\n",
            "\n"
          ]
        }
      ],
      "source": [
        "pd_df = pd.DataFrame(breast_cancer.data, columns=breast_cancer.feature_names)\n",
        "df = spark.createDataFrame(pd_df)\n",
        "\n",
        "def set_df_columns_nullable(spark, df, column_list, nullable=False):\n",
        "    for struct_field in df.schema:\n",
        "        if struct_field.name in column_list:\n",
        "            struct_field.nullable = nullable\n",
        "    df_mod = spark.createDataFrame(df.rdd, df.schema)\n",
        "    return df_mod\n",
        "\n",
        "df = set_df_columns_nullable(spark, df, df.columns)\n",
        "df = df.withColumn('features', array(df.columns))\n",
        "vectors = df.rdd.map(lambda row: Vectors.dense(row.features))\n",
        "\n",
        "df.printSchema()"
      ]
    },
    {
      "cell_type": "markdown",
      "metadata": {
        "id": "TtR1xRvonxiO"
      },
      "source": [
        "With the next cell, we build the two data structures that we will be using throughout this Colab:\n",
        "\n",
        "\n",
        "*   ```features```, a dataframe of Dense vectors, containing all the original features in the dataset;\n",
        "*   ```labels```, a series of binary labels indicating if the corresponding set of features belongs to a subject with breast cancer, or not.\n",
        "\n"
      ]
    },
    {
      "cell_type": "code",
      "execution_count": 6,
      "metadata": {
        "id": "GP23Xkgwi0SD"
      },
      "outputs": [],
      "source": [
        "from pyspark.ml.linalg import Vectors\n",
        "features = spark.createDataFrame(vectors.map(Row), [\"features\"])\n",
        "labels = pd.Series(breast_cancer.target)"
      ]
    },
    {
      "cell_type": "markdown",
      "metadata": {
        "id": "CRaF2A_j_nC7"
      },
      "source": [
        "### Your task"
      ]
    },
    {
      "cell_type": "markdown",
      "metadata": {
        "id": "ebLNUxP0_8x3"
      },
      "source": [
        "If you run successfully the Setup and Data Preprocessing stages, you are now ready to cluster the data with the [K-means](https://spark.apache.org/docs/latest/ml-clustering.html) algorithm included in MLlib (Spark's Machine Learning library).\n",
        "Set the ```k``` parameter to **2**, fit the model, and the compute the [Silhouette score](https://en.wikipedia.org/wiki/Silhouette_(clustering)) (i.e., a measure of quality of the obtained clustering).  \n",
        "\n",
        "**IMPORTANT:** use the MLlib implementation of the Silhouette score (via ```ClusteringEvaluator```)."
      ]
    },
    {
      "cell_type": "code",
      "execution_count": 30,
      "metadata": {
        "id": "0xVIfPHZwWaE",
        "colab": {
          "base_uri": "https://localhost:8080/"
        },
        "outputId": "197ebbc3-7e54-4c90-e039-2c4d98dc6745"
      },
      "outputs": [
        {
          "output_type": "stream",
          "name": "stdout",
          "text": [
            "Silhouette score =  0.8342904262826145\n",
            "Cluster Centers: \n",
            "[1.25562991e+01 1.85703653e+01 8.11234703e+01 4.96061872e+02\n",
            " 9.48844977e-02 9.10998174e-02 6.24377642e-02 3.34325434e-02\n",
            " 1.78057991e-01 6.34540183e-02 3.04190868e-01 1.21515320e+00\n",
            " 2.15288059e+00 2.37852922e+01 7.17326256e-03 2.34746895e-02\n",
            " 2.87455128e-02 1.06363242e-02 2.06135799e-02 3.74750297e-03\n",
            " 1.40439018e+01 2.47095434e+01 9.19375114e+01 6.19647945e+02\n",
            " 1.29959110e-01 2.23311758e-01 2.19214947e-01 9.13298425e-02\n",
            " 2.83553653e-01 8.32819406e-02]\n",
            "[1.93799237e+01 2.16945802e+01 1.28231298e+02 1.18592977e+03\n",
            " 1.01294580e-01 1.48612977e-01 1.76939466e-01 1.00698779e-01\n",
            " 1.91539695e-01 6.06029008e-02 7.42803817e-01 1.22253817e+00\n",
            " 5.25058015e+00 9.56781679e+01 6.59868702e-03 3.21766947e-02\n",
            " 4.24197710e-02 1.56739847e-02 2.03039695e-02 3.95338931e-03\n",
            " 2.37094656e+01 2.89126718e+01 1.58496183e+02 1.75302290e+03\n",
            " 1.40424733e-01 3.57757710e-01 4.49306107e-01 1.92431069e-01\n",
            " 3.11881679e-01 8.61654962e-02]\n"
          ]
        }
      ],
      "source": [
        "''' 8-9 lines of code in total expected but can differ based on your style.\n",
        "for sub-parts of the question, creating different cells of code would be recommended.'''\n",
        "# YOUR CODE HERE\n",
        "from pyspark.ml.clustering import KMeans\n",
        "from pyspark.ml.evaluation import ClusteringEvaluator\n",
        "\n",
        "kmeans=KMeans().setK(2).setSeed(1)\n",
        "kmeans.getFeaturesCol()\n",
        "model = kmeans.fit(features)\n",
        "predictions = model.transform(features)\n",
        "evaluator = ClusteringEvaluator()\n",
        "silhouette = evaluator.evaluate(predictions)\n",
        "print(\"Silhouette score = \", silhouette)\n",
        "centers = model.clusterCenters()\n",
        "print(\"Cluster Centers: \")\n",
        "for center in centers:\n",
        "    print(center)"
      ]
    },
    {
      "cell_type": "markdown",
      "metadata": {
        "id": "5GB09n7sqTO6"
      },
      "source": [
        "Take the predictions produced by K-means, and compare them with the ```labels``` variable (i.e., the ground truth from our dataset).  \n",
        "\n",
        "Compute how many data points in the dataset have been clustered correctly (i.e., positive cases in one cluster, negative cases in the other).\n",
        "\n",
        "*HINT*: you can use ```np.count_nonzero(series_a == series_b)``` to quickly compute the element-wise comparison of two series.\n",
        "\n",
        "**IMPORTANT**: K-means is a clustering algorithm, so it will not output a label for each data point, but just a cluster identifier!  As such, label ```0``` does not necessarily match the cluster identifier ```0```.\n"
      ]
    },
    {
      "cell_type": "code",
      "execution_count": 33,
      "metadata": {
        "id": "WQhC3APIPPM5",
        "colab": {
          "base_uri": "https://localhost:8080/"
        },
        "outputId": "85fc74c7-458d-4c84-c07e-e1a5d5131b60"
      },
      "outputs": [
        {
          "output_type": "stream",
          "name": "stdout",
          "text": [
            "                                              features  prediction\n",
            "0    [17.99, 10.38, 122.8, 1001.0, 0.1184, 0.2776, ...           1\n",
            "1    [20.57, 17.77, 132.9, 1326.0, 0.08474, 0.07864...           1\n",
            "2    [19.69, 21.25, 130.0, 1203.0, 0.1096, 0.1599, ...           1\n",
            "3    [11.42, 20.38, 77.58, 386.1, 0.1425, 0.2839, 0...           0\n",
            "4    [20.29, 14.34, 135.1, 1297.0, 0.1003, 0.1328, ...           1\n",
            "..                                                 ...         ...\n",
            "564  [21.56, 22.39, 142.0, 1479.0, 0.111, 0.1159, 0...           1\n",
            "565  [20.13, 28.25, 131.2, 1261.0, 0.0978, 0.1034, ...           1\n",
            "566  [16.6, 28.08, 108.3, 858.1, 0.08455, 0.1023, 0...           0\n",
            "567  [20.6, 29.33, 140.1, 1265.0, 0.1178, 0.277, 0....           1\n",
            "568  [7.76, 24.54, 47.92, 181.0, 0.05263, 0.04362, ...           0\n",
            "\n",
            "[569 rows x 2 columns]\n",
            "Accuracy  85.41300527240773\n",
            "Number of data points that have been clustered correctly  486\n"
          ]
        }
      ],
      "source": [
        "''' 4 lines of code in total expected but can differ based on your style. for sub-parts of the question, creating different cells of code would be recommended.'''\n",
        "# YOUR CODE HERE\n",
        "predict_pd=predictions.toPandas()\n",
        "mis_match=np.count_nonzero(labels==predict_pd['prediction'])\n",
        "Prediction_accuracy=100-((mis_match/len(predict_pd['prediction']))*100)\n",
        "print(\"Accuracy \", Prediction_accuracy)\n",
        "print(\"Number of data points that have been clustered correctly \", len(predict_pd) - mis_match)"
      ]
    },
    {
      "cell_type": "markdown",
      "metadata": {
        "id": "fLIprM1JsdTU"
      },
      "source": [
        "Now perform dimensionality reduction on the ```features``` using the [PCA](https://spark.apache.org/docs/latest/ml-features.html#pca) statistical procedure, available as well in MLlib.\n",
        "\n",
        "Set the ```k``` parameter to **2**, effectively reducing the dataset size of a **15X** factor."
      ]
    },
    {
      "cell_type": "code",
      "execution_count": 34,
      "metadata": {
        "id": "p4J8JMDkSb24",
        "colab": {
          "base_uri": "https://localhost:8080/"
        },
        "outputId": "00b76f24-7489-4f68-945b-9fd6d094aefb"
      },
      "outputs": [
        {
          "output_type": "execute_result",
          "data": {
            "text/plain": [
              "[Row(pcaFeatures=DenseVector([-2260.0139, -187.9603]), prediction=1),\n",
              " Row(pcaFeatures=DenseVector([-2368.9938, 121.5874]), prediction=1),\n",
              " Row(pcaFeatures=DenseVector([-2095.6652, 145.114]), prediction=1),\n",
              " Row(pcaFeatures=DenseVector([-692.6905, 38.5769]), prediction=0),\n",
              " Row(pcaFeatures=DenseVector([-2030.2125, 295.298]), prediction=1),\n",
              " Row(pcaFeatures=DenseVector([-888.2801, 26.0798]), prediction=0),\n",
              " Row(pcaFeatures=DenseVector([-1921.0822, 58.8076]), prediction=1),\n",
              " Row(pcaFeatures=DenseVector([-1074.7813, 31.7712]), prediction=0),\n",
              " Row(pcaFeatures=DenseVector([-908.5785, 63.8308]), prediction=0),\n",
              " Row(pcaFeatures=DenseVector([-861.5784, 40.5707]), prediction=0),\n",
              " Row(pcaFeatures=DenseVector([-1404.5591, 88.2322]), prediction=0),\n",
              " Row(pcaFeatures=DenseVector([-1524.2324, -3.2631]), prediction=1),\n",
              " Row(pcaFeatures=DenseVector([-1734.3856, 273.1627]), prediction=1),\n",
              " Row(pcaFeatures=DenseVector([-1162.914, 217.6348]), prediction=0),\n",
              " Row(pcaFeatures=DenseVector([-903.4301, 135.6152]), prediction=0),\n",
              " Row(pcaFeatures=DenseVector([-1155.876, 76.8089]), prediction=0),\n",
              " Row(pcaFeatures=DenseVector([-1335.7294, -2.4684]), prediction=0),\n",
              " Row(pcaFeatures=DenseVector([-1547.2641, 3.8057]), prediction=1),\n",
              " Row(pcaFeatures=DenseVector([-2714.9648, -164.3761]), prediction=1),\n",
              " Row(pcaFeatures=DenseVector([-908.2503, 118.2164]), prediction=0),\n",
              " Row(pcaFeatures=DenseVector([-814.82, 120.5146]), prediction=0),\n",
              " Row(pcaFeatures=DenseVector([-416.2874, 73.3811]), prediction=0),\n",
              " Row(pcaFeatures=DenseVector([-1212.4318, 96.7967]), prediction=0),\n",
              " Row(pcaFeatures=DenseVector([-2973.6044, -154.2388]), prediction=1),\n",
              " Row(pcaFeatures=DenseVector([-2373.602, -373.3642]), prediction=1),\n",
              " Row(pcaFeatures=DenseVector([-1734.7511, 26.0256]), prediction=1),\n",
              " Row(pcaFeatures=DenseVector([-1108.4632, 88.9728]), prediction=0),\n",
              " Row(pcaFeatures=DenseVector([-1777.6558, 210.7819]), prediction=1),\n",
              " Row(pcaFeatures=DenseVector([-1473.5912, -29.3775]), prediction=1),\n",
              " Row(pcaFeatures=DenseVector([-1553.5494, 183.3572]), prediction=1)]"
            ]
          },
          "metadata": {},
          "execution_count": 34
        }
      ],
      "source": [
        "''' 6 lines of code in total expected but can differ based on your style. for sub-parts of the question, creating different cells of code would be recommended.'''\n",
        "# YOUR CODE HERE\n",
        "from pyspark.ml.feature import PCA\n",
        "from pyspark.ml.linalg import Vectors\n",
        "\n",
        "pca = PCA(k=2, inputCol=\"features\", outputCol=\"pcaFeatures\")\n",
        "pca_model = pca.fit(features)\n",
        "pcaFeatures = pca_model.transform(features).select(\"pcaFeatures\")\n",
        "\n",
        "kmeans = KMeans(featuresCol='pcaFeatures').setK(2).setSeed(1)\n",
        "pca_kmeans_model = kmeans.fit(pcaFeatures)\n",
        "pca_predictions = pca_kmeans_model.transform(pcaFeatures)\n",
        "pca_predictions.take(30)"
      ]
    },
    {
      "cell_type": "markdown",
      "metadata": {
        "id": "8leQR4-atMAl"
      },
      "source": [
        "Now run K-means with the same parameters as above, but on the ```pcaFeatures``` produced by the PCA reduction you just executed.\n",
        "\n",
        "Compute the Silhouette score, as well as the number of data points that have been clustered correctly."
      ]
    },
    {
      "cell_type": "code",
      "execution_count": 35,
      "metadata": {
        "id": "U_snSSj5k2y5",
        "colab": {
          "base_uri": "https://localhost:8080/"
        },
        "outputId": "ae224af8-d6fe-483b-ad6d-53b75abab757"
      },
      "outputs": [
        {
          "output_type": "stream",
          "name": "stdout",
          "text": [
            "Silhouette score = 0.8348610363444832\n",
            "Accuracy  85.41300527240773\n",
            "Number of data points that have been clustered correctly  486\n"
          ]
        }
      ],
      "source": [
        "''' 11-13 lines of code in total expected but can differ based on your style. for sub-parts of the question, creating different cells of code would be recommended.'''\n",
        "# YOUR CODE HERE\n",
        "from pyspark.ml.clustering import KMeans\n",
        "from pyspark.ml.evaluation import ClusteringEvaluator\n",
        "kmeans=KMeans().setK(2).setSeed(1).setFeaturesCol(\"pcaFeatures\")\n",
        "model = kmeans.fit(pcaFeatures)\n",
        "kmeans.getFeaturesCol()\n",
        "predictions = model.transform(pcaFeatures)\n",
        "evaluator = ClusteringEvaluator()\n",
        "silhouette = evaluator.evaluate(pca_predictions.withColumnRenamed('pcaFeatures','features'))\n",
        "print(\"Silhouette score = \" + str(silhouette))\n",
        "Prediction_accuracy=100-((mis_match/len(predict_pd['prediction']))*100)\n",
        "print(\"Accuracy \", Prediction_accuracy)\n",
        "mis_match=np.count_nonzero(labels==predict_pd['prediction'])\n",
        "print(\"Number of data points that have been clustered correctly \", len(predict_pd) - mis_match)"
      ]
    },
    {
      "cell_type": "markdown",
      "metadata": {
        "id": "SIrXJyVNP2AI"
      },
      "source": [
        "Once you obtained the desired results, **head over to Gradescope and submit your solution for this Colab**!"
      ]
    }
  ],
  "metadata": {
    "colab": {
      "provenance": []
    },
    "kernelspec": {
      "display_name": "Python 3",
      "name": "python3"
    }
  },
  "nbformat": 4,
  "nbformat_minor": 0
}