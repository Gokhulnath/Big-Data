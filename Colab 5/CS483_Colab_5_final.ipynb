{
  "cells": [
    {
      "cell_type": "markdown",
      "metadata": {
        "id": "kPt5q27L5557"
      },
      "source": [
        "# CS483 - Colab 5\n",
        "## PageRank"
      ]
    },
    {
      "cell_type": "code",
      "execution_count": 1,
      "metadata": {
        "colab": {
          "base_uri": "https://localhost:8080/",
          "height": 193
        },
        "id": "yUHXnec92vdy",
        "outputId": "5a4ab1a7-9ce6-46dd-f524-048dea2b592a"
      },
      "outputs": [
        {
          "output_type": "stream",
          "name": "stdout",
          "text": [
            "Colab 5 Mascot\n"
          ]
        },
        {
          "output_type": "execute_result",
          "data": {
            "text/html": [
              "<img src=\"https://media.giphy.com/media/cCOVfFwDI3awdse5A3/giphy.gif\" width=\"150\"/>"
            ],
            "text/plain": [
              "<IPython.core.display.Image object>"
            ]
          },
          "metadata": {},
          "execution_count": 1
        }
      ],
      "source": [
        "from IPython.display import Image\n",
        "print(\"Colab 5 Mascot\")\n",
        "Image(url='https://media.giphy.com/media/cCOVfFwDI3awdse5A3/giphy.gif',width=150)"
      ]
    },
    {
      "cell_type": "markdown",
      "metadata": {
        "id": "p0-YhEpP_Ds-"
      },
      "source": [
        "### Setup"
      ]
    },
    {
      "cell_type": "markdown",
      "metadata": {
        "id": "PUUjUvXe3Sjk"
      },
      "source": [
        "First of all, we authenticate a Google Drive client to download the dataset we will be processing in this Colab.\n",
        "\n",
        "**Make sure to follow the interactive instructions.**"
      ]
    },
    {
      "cell_type": "code",
      "execution_count": 2,
      "metadata": {
        "id": "lRElWs_x2mGh",
        "colab": {
          "base_uri": "https://localhost:8080/"
        },
        "outputId": "cedb2dfc-cff1-4099-ef19-30d04ac87aa7"
      },
      "outputs": [
        {
          "output_type": "stream",
          "name": "stderr",
          "text": [
            "WARNING:root:pydrive is deprecated and no longer maintained. We recommend that you migrate your projects to pydrive2, the maintained fork of pydrive\n"
          ]
        }
      ],
      "source": [
        "from pydrive.auth import GoogleAuth\n",
        "from pydrive.drive import GoogleDrive\n",
        "from google.colab import auth\n",
        "from oauth2client.client import GoogleCredentials\n",
        "\n",
        "# Authenticate and create the PyDrive client\n",
        "auth.authenticate_user()\n",
        "gauth = GoogleAuth()\n",
        "gauth.credentials = GoogleCredentials.get_application_default()\n",
        "drive = GoogleDrive(gauth)"
      ]
    },
    {
      "cell_type": "code",
      "execution_count": 3,
      "metadata": {
        "id": "QHsFTGUy2n1c"
      },
      "outputs": [],
      "source": [
        "id='1EoolSK32_U74I4FeLox88iuUB_SUUYsI'\n",
        "downloaded = drive.CreateFile({'id': id})\n",
        "downloaded.GetContentFile('web-Stanford.txt')"
      ]
    },
    {
      "cell_type": "markdown",
      "metadata": {
        "id": "qwtlO4_m_LbQ"
      },
      "source": [
        "If you executed the cells above, you should be able to see the dataset we will use for this Colab under the \"Files\" tab on the left panel.\n",
        "\n",
        "Next, we import some of the common libraries needed for our task."
      ]
    },
    {
      "cell_type": "code",
      "execution_count": 4,
      "metadata": {
        "id": "twk-K-jilWK7"
      },
      "outputs": [],
      "source": [
        "import pandas as pd\n",
        "import numpy as np\n",
        "import matplotlib.pyplot as plt\n",
        "%matplotlib inline"
      ]
    },
    {
      "cell_type": "markdown",
      "metadata": {
        "id": "kAYRX2PMm0L6"
      },
      "source": [
        "### Data Loading"
      ]
    },
    {
      "cell_type": "markdown",
      "metadata": {
        "id": "GXzc_R6ArXtL"
      },
      "source": [
        "For this Colab we will be using [NetworkX](https://networkx.github.io), a Python package for the creation, manipulation, and study of the structure, dynamics, and functions of complex networks ([tutorial](https://networkx.org/documentation/stable/tutorial.html)).\n",
        "\n",
        "The dataset we will analyze is a snapshot of the Web Graph centered around [stanford.edu](https://stanford.edu), collected in 2002. Nodes represent pages from Stanford University (stanford.edu) and directed edges represent hyperlinks between them. [[More Info]](http://snap.stanford.edu/data/web-Stanford.html)"
      ]
    },
    {
      "cell_type": "code",
      "execution_count": 5,
      "metadata": {
        "id": "LPIadGxvLyyq"
      },
      "outputs": [],
      "source": [
        "import networkx as nx\n",
        "\n",
        "G = nx.read_edgelist('web-Stanford.txt', create_using=nx.DiGraph)"
      ]
    },
    {
      "cell_type": "markdown",
      "metadata": {
        "id": "zgVOrXN1EWNh"
      },
      "source": [
        "#### Function to print graph information"
      ]
    },
    {
      "cell_type": "code",
      "execution_count": 6,
      "metadata": {
        "id": "Smd1XvR7MLyE"
      },
      "outputs": [],
      "source": [
        "def print_graph_info(G, directed=True):\n",
        "  print(\"Number of nodes:\", len(G.nodes))\n",
        "  print(\"Number of edges:\", len(G.edges))\n",
        "  if directed:\n",
        "    print(\"Average in-degree:\", sum(dict(G.in_degree).values()) / len(G.nodes))\n",
        "    print(\"Average out-degree:\", sum(dict(G.out_degree).values()) / len(G.nodes))\n",
        "  else:\n",
        "    print(\"Average degree:\", sum(dict(G.degree).values()) / len(G.nodes))"
      ]
    },
    {
      "cell_type": "code",
      "execution_count": 7,
      "metadata": {
        "id": "gcZxbivxEcDT",
        "colab": {
          "base_uri": "https://localhost:8080/"
        },
        "outputId": "dea4fc30-559e-464a-a0a0-d8f0676326e5"
      },
      "outputs": [
        {
          "output_type": "stream",
          "name": "stdout",
          "text": [
            "Number of nodes: 281903\n",
            "Number of edges: 2312497\n",
            "Average in-degree: 8.203165627893283\n",
            "Average out-degree: 8.203165627893283\n"
          ]
        }
      ],
      "source": [
        "print_graph_info(G, True)"
      ]
    },
    {
      "cell_type": "markdown",
      "metadata": {
        "id": "vbmr23B2rJKR"
      },
      "source": [
        "### Your Task"
      ]
    },
    {
      "cell_type": "markdown",
      "metadata": {
        "id": "x15OQeyys1xd"
      },
      "source": [
        "To begin with, let's simplify our analysis by ignoring the dangling nodes and the disconnected components in the original graph.\n",
        "\n",
        "Use NetworkX to identify the **largest** weakly connected component in the ```G``` graph.  From now on, use this connected component for all the following tasks.\n",
        "\n",
        "Print its information."
      ]
    },
    {
      "cell_type": "code",
      "execution_count": 8,
      "metadata": {
        "id": "R9tDwRidIw-Q",
        "colab": {
          "base_uri": "https://localhost:8080/"
        },
        "outputId": "4f48682a-7987-4153-d047-a40712cef2fe"
      },
      "outputs": [
        {
          "output_type": "stream",
          "name": "stdout",
          "text": [
            "Number of nodes: 255265\n",
            "Number of edges: 2234572\n",
            "Average in-degree: 8.753930229369479\n",
            "Average out-degree: 8.753930229369479\n"
          ]
        }
      ],
      "source": [
        "''' 3 lines of code in total expected. '''\n",
        "\n",
        "# YOUR CODE HERE\n",
        "weakly_connected_components = max(nx.weakly_connected_components(G), key=len)\n",
        "max_weakly_connected_components = nx.subgraph(G, weakly_connected_components)\n",
        "print_graph_info(max_weakly_connected_components, True)"
      ]
    },
    {
      "cell_type": "markdown",
      "metadata": {
        "id": "mbYMNjBhuhK-"
      },
      "source": [
        "Compute the PageRank vector, using the default parameters in NetworkX: [https://networkx.github.io/documentation/stable/reference/algorithms/generated/networkx.algorithms.link_analysis.pagerank_alg.pagerank.html#networkx.algorithms.link_analysis.pagerank_alg.pageranky](https://networkx.github.io/documentation/stable/reference/algorithms/generated/networkx.algorithms.link_analysis.pagerank_alg.pagerank.html#networkx.algorithms.link_analysis.pagerank_alg.pagerank)"
      ]
    },
    {
      "cell_type": "code",
      "execution_count": 9,
      "metadata": {
        "id": "ll-rVh7KVoLA",
        "colab": {
          "base_uri": "https://localhost:8080/"
        },
        "outputId": "891dcee5-5fa6-4fae-ad92-551270014d15"
      },
      "outputs": [
        {
          "output_type": "stream",
          "name": "stdout",
          "text": [
            "('89073', 0.011051585882434985)\n"
          ]
        }
      ],
      "source": [
        "''' 1 line of code in total expected. '''\n",
        "\n",
        "# YOUR CODE HERE\n",
        "rank = sorted(nx.pagerank(max_weakly_connected_components, alpha=0.85, personalization=None, max_iter=100, tol=1e-06, nstart=None, weight='weight', dangling=None).items(), key=lambda x:x[1])\n",
        "print(rank[-1])"
      ]
    },
    {
      "cell_type": "markdown",
      "metadata": {
        "id": "xDx905Wk3FKf"
      },
      "source": [
        "In 1999, Barabási and Albert proposed an elegant mathematical model which can generate graphs with topological properties similar to the Web Graph (also called Scale-free Networks).\n",
        "\n",
        "If you complete the steps below, you should obtain some empirical evidence that the Random Graph model is inferior compared to the Barabási–Albert model when it comes to generating a graph resembling the World Wide Web!"
      ]
    },
    {
      "cell_type": "markdown",
      "metadata": {
        "id": "Ox3ksWEFyaP-"
      },
      "source": [
        "As such, we will use two different graph generator methods, and then we will test how well they approximate the Web Graph structure by means of comparing the respective PageRank vectors. [[NetworkX Graph generators]](https://networkx.github.io/documentation/stable/reference/generators.html#)\n",
        "\n",
        "Using the parameters ```seed = 1``` and ```directed=False``` where applicable, generate:\n",
        "\n",
        "\n",
        "1.   a random graph (with the fast method), setting ```n``` equal to the number of nodes in the original connected component, and ```p = 0.00008```\n",
        "2.   a Barabasi-Albert graph (with the standard method), setting ```n``` equal to the number of nodes in the original connected component, and finding the right ***integer*** value for ```m``` such as the resulting number of edges **approximates by excess** the number of edges in the original connected component\n",
        "\n",
        "and compute the PageRank vectors for both graphs. Print generated graph's information, if needed.\n"
      ]
    },
    {
      "cell_type": "code",
      "execution_count": 10,
      "metadata": {
        "id": "5Yd94CE9aPJP",
        "colab": {
          "base_uri": "https://localhost:8080/"
        },
        "outputId": "1e795c02-582a-4ea0-8159-50eafbfb7fba"
      },
      "outputs": [
        {
          "output_type": "stream",
          "name": "stdout",
          "text": [
            "(150787, 7.458986619588909e-06)\n",
            "Number of nodes: 255265\n",
            "Number of edges: 2606386\n",
            "Average degree: 20.421021291598926\n"
          ]
        }
      ],
      "source": [
        "''' 6-8 lines of code in total expected but can differ based on your style.\n",
        "For sub-parts of the question (if any), creating different cells of code would be recommended.'''\n",
        "\n",
        "# YOUR CODE HERE\n",
        "n = 255265\n",
        "p = 0.00008\n",
        "rand_G = nx.fast_gnp_random_graph(n, p, seed=1, directed=False)\n",
        "rank_rand_G = sorted(nx.pagerank(rand_G, alpha=0.85, personalization=None, max_iter=100, tol=1e-06, nstart=None, weight='weight', dangling=None).items(), key=lambda x:x[1])\n",
        "print(rank_rand_G[-1])\n",
        "print_graph_info(rand_G, False)"
      ]
    },
    {
      "cell_type": "code",
      "source": [
        "m = 9\n",
        "barabasi_albert_G = nx.barabasi_albert_graph(n, m, seed=1, initial_graph=None)\n",
        "rank_barabasi_albert_G = sorted(nx.pagerank(barabasi_albert_G, alpha=0.85, personalization=None, max_iter=100, tol=1e-06, nstart=None, weight='weight', dangling=None).items(), key=lambda x:x[1])\n",
        "print(rank_barabasi_albert_G[-1])\n",
        "print_graph_info(barabasi_albert_G, False)"
      ],
      "metadata": {
        "colab": {
          "base_uri": "https://localhost:8080/"
        },
        "id": "vPyx_btcrU8e",
        "outputId": "6453c90d-a629-4093-a6db-3436552889f0"
      },
      "execution_count": 11,
      "outputs": [
        {
          "output_type": "stream",
          "name": "stdout",
          "text": [
            "(11, 0.00041689766748208805)\n",
            "Number of nodes: 255265\n",
            "Number of edges: 2297304\n",
            "Average degree: 17.99936536540458\n"
          ]
        }
      ]
    },
    {
      "cell_type": "markdown",
      "metadata": {
        "id": "BlxK42Pi01vN"
      },
      "source": [
        "Compare the PageRank vectors obtained on the generated graphs with the PageRank vector you computed on the original connected component.\n",
        "**Sort** the components of each vector by value, and use cosine similarity as similarity measure.\n",
        "\n",
        "Feel free to use any implementation of the cosine similarity available in third-party libraries, or implement your own with ```numpy```."
      ]
    },
    {
      "cell_type": "code",
      "execution_count": 18,
      "metadata": {
        "id": "1aUgyeNdUQxs",
        "colab": {
          "base_uri": "https://localhost:8080/"
        },
        "outputId": "f407962b-e2eb-44b1-ea5f-9ee70bcdcd24"
      },
      "outputs": [
        {
          "output_type": "execute_result",
          "data": {
            "text/plain": [
              "[('186750', 0.00314345200380852),\n",
              " ('234704', 0.0031708863624340614),\n",
              " ('225872', 0.0031736850016296342),\n",
              " ('105607', 0.0032305919516859047),\n",
              " ('67756', 0.003543473943866138),\n",
              " ('69358', 0.003753708143672675),\n",
              " ('134832', 0.00650923773721211),\n",
              " ('241454', 0.009829260884719991),\n",
              " ('226411', 0.010694113250567905),\n",
              " ('89073', 0.011051585882434985)]"
            ]
          },
          "metadata": {},
          "execution_count": 18
        }
      ],
      "source": [
        "''' 8-10 lines of code in total expected but can differ based on your style.\n",
        "For sub-parts of the question (if any), creating different cells of code would be recommended.'''\n",
        "\n",
        "# YOUR CODE HERE\n",
        "rank[-10:]"
      ]
    },
    {
      "cell_type": "code",
      "source": [
        "rank_rand_G[-10:]"
      ],
      "metadata": {
        "colab": {
          "base_uri": "https://localhost:8080/"
        },
        "id": "zUanlwLArgal",
        "outputId": "3ef93de2-55be-42d7-92fd-acfd6f09a3e4"
      },
      "execution_count": 19,
      "outputs": [
        {
          "output_type": "execute_result",
          "data": {
            "text/plain": [
              "[(127392, 7.197456973720354e-06),\n",
              " (239691, 7.228833381965614e-06),\n",
              " (70124, 7.268730168861052e-06),\n",
              " (129032, 7.299830669613334e-06),\n",
              " (184745, 7.313541287755495e-06),\n",
              " (144307, 7.323021888645532e-06),\n",
              " (141505, 7.348699650919032e-06),\n",
              " (193475, 7.368176905091742e-06),\n",
              " (14579, 7.3974735409810506e-06),\n",
              " (150787, 7.458986619588909e-06)]"
            ]
          },
          "metadata": {},
          "execution_count": 19
        }
      ]
    },
    {
      "cell_type": "code",
      "source": [
        "rank_barabasi_albert_G[-10:]"
      ],
      "metadata": {
        "colab": {
          "base_uri": "https://localhost:8080/"
        },
        "id": "-sSlBvx2rjFf",
        "outputId": "a763e03e-ca5a-499c-c9a6-73675da45621"
      },
      "execution_count": 20,
      "outputs": [
        {
          "output_type": "execute_result",
          "data": {
            "text/plain": [
              "[(2, 0.0002820305369954235),\n",
              " (13, 0.0002832139282928614),\n",
              " (33, 0.00028542554346320257),\n",
              " (31, 0.0003024957900994401),\n",
              " (12, 0.0003051642675066239),\n",
              " (0, 0.00031311819116956204),\n",
              " (17, 0.000323435926854125),\n",
              " (10, 0.0003280249659834195),\n",
              " (6, 0.00034052486511954385),\n",
              " (11, 0.00041689766748208805)]"
            ]
          },
          "metadata": {},
          "execution_count": 20
        }
      ]
    },
    {
      "cell_type": "code",
      "source": [
        "G_vec = np.array([x[1] for x in rank])\n",
        "rand_vec = np.array([x[1] for x in rank_rand_G])\n",
        "barabasi_albert_vec = np.array([x[1] for x in rank_barabasi_albert_G])"
      ],
      "metadata": {
        "id": "jXW7Flx3rlUX"
      },
      "execution_count": 21,
      "outputs": []
    },
    {
      "cell_type": "code",
      "source": [
        "cosine_rand = np.dot(G_vec, rand_vec)/(np.linalg.norm(G_vec)*np.linalg.norm(rand_vec))\n",
        "print(\"Cosine Similarity  between the web-Stanford graph and the random generated graph:\", cosine_rand)\n",
        "cosine_BA = np.dot(G_vec,barabasi_albert_vec)/(np.linalg.norm(G_vec)*np.linalg.norm(barabasi_albert_vec))\n",
        "print(\"Cosine Similarity between the web-Stanford graph and the Barabási-Albert graph:\", cosine_BA)"
      ],
      "metadata": {
        "colab": {
          "base_uri": "https://localhost:8080/"
        },
        "id": "uMbDDHM1rnO3",
        "outputId": "68d5f0c9-ae05-4bda-fe4b-79e84079a7be"
      },
      "execution_count": 22,
      "outputs": [
        {
          "output_type": "stream",
          "name": "stdout",
          "text": [
            "Cosine Similarity  between the web-Stanford graph and the random generated graph: 0.10395564703964394\n",
            "Cosine Similarity between the web-Stanford graph and the Barabási-Albert graph: 0.6488673660967239\n"
          ]
        }
      ]
    },
    {
      "cell_type": "markdown",
      "metadata": {
        "id": "SIrXJyVNP2AI"
      },
      "source": [
        "Once you have working code for each cell above, **head over to Gradescope, read carefully the questions, and submit your solution for this Colab**!"
      ]
    }
  ],
  "metadata": {
    "colab": {
      "machine_shape": "hm",
      "provenance": []
    },
    "kernelspec": {
      "display_name": "Python 3",
      "name": "python3"
    }
  },
  "nbformat": 4,
  "nbformat_minor": 0
}