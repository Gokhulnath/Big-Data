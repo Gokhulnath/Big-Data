{
  "cells": [
    {
      "cell_type": "markdown",
      "metadata": {
        "id": "kPt5q27L5557"
      },
      "source": [
        "# CS483 - Colab 4\n",
        "## Collaborative Filtering"
      ]
    },
    {
      "cell_type": "code",
      "execution_count": 1,
      "metadata": {
        "colab": {
          "base_uri": "https://localhost:8080/",
          "height": 189
        },
        "id": "qcTbH0d9e0Nf",
        "outputId": "9ef426df-da67-433a-ab3c-544070bf5411"
      },
      "outputs": [
        {
          "output_type": "stream",
          "name": "stdout",
          "text": [
            "Colab 4 Mascot\n"
          ]
        },
        {
          "output_type": "execute_result",
          "data": {
            "text/html": [
              "<img src=\"https://media4.giphy.com/media/wtdVYmaRWJ1PyPcc8e/giphy.gif?cid=ecf05e478jdbzo92b89f2b5ud5184xda9cen1xce4bwmjeyu&ep=v1_stickers_search&rid=giphy.gif&ct=s\" width=\"150\"/>"
            ],
            "text/plain": [
              "<IPython.core.display.Image object>"
            ]
          },
          "metadata": {},
          "execution_count": 1
        }
      ],
      "source": [
        "from IPython.display import Image\n",
        "print(\"Colab 4 Mascot\")\n",
        "Image(url='https://media4.giphy.com/media/wtdVYmaRWJ1PyPcc8e/giphy.gif?cid=ecf05e478jdbzo92b89f2b5ud5184xda9cen1xce4bwmjeyu&ep=v1_stickers_search&rid=giphy.gif&ct=s',width=150)"
      ]
    },
    {
      "cell_type": "markdown",
      "metadata": {
        "id": "p0-YhEpP_Ds-"
      },
      "source": [
        "### Setup"
      ]
    },
    {
      "cell_type": "markdown",
      "metadata": {
        "id": "Zsj5WYpR9QId"
      },
      "source": [
        "Let's set up Spark on your Colab environment.  Run the cell below!"
      ]
    },
    {
      "cell_type": "code",
      "execution_count": 2,
      "metadata": {
        "colab": {
          "base_uri": "https://localhost:8080/"
        },
        "id": "k-qHai2252mI",
        "outputId": "b9260d22-a079-4478-ae94-e9f514e479bc"
      },
      "outputs": [
        {
          "output_type": "stream",
          "name": "stdout",
          "text": [
            "Requirement already satisfied: pyspark in /usr/local/lib/python3.10/dist-packages (3.5.3)\n",
            "Requirement already satisfied: py4j==0.10.9.7 in /usr/local/lib/python3.10/dist-packages (from pyspark) (0.10.9.7)\n",
            "The following additional packages will be installed:\n",
            "  libxtst6 openjdk-8-jre-headless\n",
            "Suggested packages:\n",
            "  openjdk-8-demo openjdk-8-source libnss-mdns fonts-dejavu-extra fonts-nanum fonts-ipafont-gothic\n",
            "  fonts-ipafont-mincho fonts-wqy-microhei fonts-wqy-zenhei fonts-indic\n",
            "The following NEW packages will be installed:\n",
            "  libxtst6 openjdk-8-jdk-headless openjdk-8-jre-headless\n",
            "0 upgraded, 3 newly installed, 0 to remove and 49 not upgraded.\n",
            "Need to get 39.6 MB of archives.\n",
            "After this operation, 144 MB of additional disk space will be used.\n",
            "Selecting previously unselected package libxtst6:amd64.\n",
            "(Reading database ... 123629 files and directories currently installed.)\n",
            "Preparing to unpack .../libxtst6_2%3a1.2.3-1build4_amd64.deb ...\n",
            "Unpacking libxtst6:amd64 (2:1.2.3-1build4) ...\n",
            "Selecting previously unselected package openjdk-8-jre-headless:amd64.\n",
            "Preparing to unpack .../openjdk-8-jre-headless_8u422-b05-1~22.04_amd64.deb ...\n",
            "Unpacking openjdk-8-jre-headless:amd64 (8u422-b05-1~22.04) ...\n",
            "Selecting previously unselected package openjdk-8-jdk-headless:amd64.\n",
            "Preparing to unpack .../openjdk-8-jdk-headless_8u422-b05-1~22.04_amd64.deb ...\n",
            "Unpacking openjdk-8-jdk-headless:amd64 (8u422-b05-1~22.04) ...\n",
            "Setting up libxtst6:amd64 (2:1.2.3-1build4) ...\n",
            "Setting up openjdk-8-jre-headless:amd64 (8u422-b05-1~22.04) ...\n",
            "update-alternatives: using /usr/lib/jvm/java-8-openjdk-amd64/jre/bin/orbd to provide /usr/bin/orbd (orbd) in auto mode\n",
            "update-alternatives: using /usr/lib/jvm/java-8-openjdk-amd64/jre/bin/servertool to provide /usr/bin/servertool (servertool) in auto mode\n",
            "update-alternatives: using /usr/lib/jvm/java-8-openjdk-amd64/jre/bin/tnameserv to provide /usr/bin/tnameserv (tnameserv) in auto mode\n",
            "Setting up openjdk-8-jdk-headless:amd64 (8u422-b05-1~22.04) ...\n",
            "update-alternatives: using /usr/lib/jvm/java-8-openjdk-amd64/bin/clhsdb to provide /usr/bin/clhsdb (clhsdb) in auto mode\n",
            "update-alternatives: using /usr/lib/jvm/java-8-openjdk-amd64/bin/extcheck to provide /usr/bin/extcheck (extcheck) in auto mode\n",
            "update-alternatives: using /usr/lib/jvm/java-8-openjdk-amd64/bin/hsdb to provide /usr/bin/hsdb (hsdb) in auto mode\n",
            "update-alternatives: using /usr/lib/jvm/java-8-openjdk-amd64/bin/idlj to provide /usr/bin/idlj (idlj) in auto mode\n",
            "update-alternatives: using /usr/lib/jvm/java-8-openjdk-amd64/bin/javah to provide /usr/bin/javah (javah) in auto mode\n",
            "update-alternatives: using /usr/lib/jvm/java-8-openjdk-amd64/bin/jhat to provide /usr/bin/jhat (jhat) in auto mode\n",
            "update-alternatives: using /usr/lib/jvm/java-8-openjdk-amd64/bin/jsadebugd to provide /usr/bin/jsadebugd (jsadebugd) in auto mode\n",
            "update-alternatives: using /usr/lib/jvm/java-8-openjdk-amd64/bin/native2ascii to provide /usr/bin/native2ascii (native2ascii) in auto mode\n",
            "update-alternatives: using /usr/lib/jvm/java-8-openjdk-amd64/bin/schemagen to provide /usr/bin/schemagen (schemagen) in auto mode\n",
            "update-alternatives: using /usr/lib/jvm/java-8-openjdk-amd64/bin/wsgen to provide /usr/bin/wsgen (wsgen) in auto mode\n",
            "update-alternatives: using /usr/lib/jvm/java-8-openjdk-amd64/bin/wsimport to provide /usr/bin/wsimport (wsimport) in auto mode\n",
            "update-alternatives: using /usr/lib/jvm/java-8-openjdk-amd64/bin/xjc to provide /usr/bin/xjc (xjc) in auto mode\n",
            "Processing triggers for libc-bin (2.35-0ubuntu3.4) ...\n",
            "/sbin/ldconfig.real: /usr/local/lib/libtbbbind.so.3 is not a symbolic link\n",
            "\n",
            "/sbin/ldconfig.real: /usr/local/lib/libur_adapter_opencl.so.0 is not a symbolic link\n",
            "\n",
            "/sbin/ldconfig.real: /usr/local/lib/libtbb.so.12 is not a symbolic link\n",
            "\n",
            "/sbin/ldconfig.real: /usr/local/lib/libtbbbind_2_5.so.3 is not a symbolic link\n",
            "\n",
            "/sbin/ldconfig.real: /usr/local/lib/libur_adapter_level_zero.so.0 is not a symbolic link\n",
            "\n",
            "/sbin/ldconfig.real: /usr/local/lib/libur_loader.so.0 is not a symbolic link\n",
            "\n",
            "/sbin/ldconfig.real: /usr/local/lib/libtbbmalloc.so.2 is not a symbolic link\n",
            "\n",
            "/sbin/ldconfig.real: /usr/local/lib/libtbbmalloc_proxy.so.2 is not a symbolic link\n",
            "\n",
            "/sbin/ldconfig.real: /usr/local/lib/libtbbbind_2_0.so.3 is not a symbolic link\n",
            "\n"
          ]
        }
      ],
      "source": [
        "!pip install pyspark\n",
        "!pip install -U -q PyDrive\n",
        "!apt install openjdk-8-jdk-headless -qq\n",
        "import os\n",
        "os.environ[\"JAVA_HOME\"] = \"/usr/lib/jvm/java-8-openjdk-amd64\""
      ]
    },
    {
      "cell_type": "markdown",
      "metadata": {
        "id": "PUUjUvXe3Sjk"
      },
      "source": [
        "Now we authenticate a Google Drive client to download the files we will be processing in our Spark job.\n",
        "\n",
        "**Make sure to follow the interactive instructions.**"
      ]
    },
    {
      "cell_type": "code",
      "execution_count": 3,
      "metadata": {
        "colab": {
          "base_uri": "https://localhost:8080/"
        },
        "id": "lRElWs_x2mGh",
        "outputId": "a27f45a6-e3d5-4823-d246-d23eabf26336"
      },
      "outputs": [
        {
          "output_type": "stream",
          "name": "stderr",
          "text": [
            "WARNING:root:pydrive is deprecated and no longer maintained. We recommend that you migrate your projects to pydrive2, the maintained fork of pydrive\n"
          ]
        }
      ],
      "source": [
        "from pydrive.auth import GoogleAuth\n",
        "from pydrive.drive import GoogleDrive\n",
        "from google.colab import auth\n",
        "from oauth2client.client import GoogleCredentials\n",
        "\n",
        "# Authenticate and create the PyDrive client\n",
        "auth.authenticate_user()\n",
        "gauth = GoogleAuth()\n",
        "gauth.credentials = GoogleCredentials.get_application_default()\n",
        "drive = GoogleDrive(gauth)"
      ]
    },
    {
      "cell_type": "code",
      "execution_count": 4,
      "metadata": {
        "id": "QHsFTGUy2n1c"
      },
      "outputs": [],
      "source": [
        "id='1QtPy_HuIMSzhtYllT3-WeM3Sqg55wK_D'\n",
        "downloaded = drive.CreateFile({'id': id})\n",
        "downloaded.GetContentFile('MovieLens.training')\n",
        "\n",
        "id='1ePqnsQTJRRvQcBoF2EhoPU8CU1i5byHK'\n",
        "downloaded = drive.CreateFile({'id': id})\n",
        "downloaded.GetContentFile('MovieLens.test')\n",
        "\n",
        "id='1ncUBWdI5AIt3FDUJokbMqpHD2knd5ebp'\n",
        "downloaded = drive.CreateFile({'id': id})\n",
        "downloaded.GetContentFile('MovieLens.item')"
      ]
    },
    {
      "cell_type": "markdown",
      "metadata": {
        "id": "qwtlO4_m_LbQ"
      },
      "source": [
        "If you executed the cells above, you should be able to see the dataset we will use for this Colab under the \"Files\" tab on the left panel.\n",
        "\n",
        "Next, we import some of the common libraries needed for our task."
      ]
    },
    {
      "cell_type": "code",
      "execution_count": 5,
      "metadata": {
        "id": "twk-K-jilWK7"
      },
      "outputs": [],
      "source": [
        "import pandas as pd\n",
        "import numpy as np\n",
        "import matplotlib.pyplot as plt\n",
        "%matplotlib inline\n",
        "\n",
        "import pyspark\n",
        "from pyspark.sql import *\n",
        "from pyspark.sql.types import *\n",
        "from pyspark.sql.functions import *\n",
        "from pyspark import SparkContext, SparkConf"
      ]
    },
    {
      "cell_type": "markdown",
      "metadata": {
        "id": "BtrJlMBt1Ela"
      },
      "source": [
        "Let's initialize the Spark context."
      ]
    },
    {
      "cell_type": "code",
      "execution_count": 6,
      "metadata": {
        "id": "Vm3sAVeK1EDZ"
      },
      "outputs": [],
      "source": [
        "# create the session\n",
        "conf = SparkConf().set(\"spark.ui.port\", \"4050\")\n",
        "\n",
        "# create the context\n",
        "sc = pyspark.SparkContext(conf=conf)\n",
        "spark = SparkSession.builder.getOrCreate()"
      ]
    },
    {
      "cell_type": "markdown",
      "metadata": {
        "id": "kAYRX2PMm0L6"
      },
      "source": [
        "### Data Loading"
      ]
    },
    {
      "cell_type": "markdown",
      "metadata": {
        "id": "7hXdMR6wnEIM"
      },
      "source": [
        "In this Colab, we will be using the [MovieLens dataset](https://grouplens.org/datasets/movielens/), specifically the 100K dataset (which contains in total 100,000 ratings from 1000 users on ~1700 movies).\n",
        "\n",
        "We load the ratings data in a 80%-20% ```training```/```test``` split, while the ```items``` dataframe contains the movie titles associated to the item identifiers."
      ]
    },
    {
      "cell_type": "code",
      "execution_count": 25,
      "metadata": {
        "id": "5K93ABEy9Zlo"
      },
      "outputs": [],
      "source": [
        "schema_ratings = StructType([\n",
        "    StructField(\"user_id\", IntegerType(), False),\n",
        "    StructField(\"item_id\", IntegerType(), False),\n",
        "    StructField(\"rating\", IntegerType(), False),\n",
        "    StructField(\"timestamp\", IntegerType(), False)])\n",
        "\n",
        "schema_items = StructType([\n",
        "    StructField(\"item_id\", IntegerType(), False),\n",
        "    StructField(\"movie\", StringType(), False)])\n",
        "\n",
        "training = spark.read.option(\"sep\", \"\\t\").csv(\"MovieLens.training\", header=False, schema=schema_ratings)\n",
        "test = spark.read.option(\"sep\", \"\\t\").csv(\"MovieLens.test\", header=False, schema=schema_ratings)\n",
        "items = spark.read.option(\"sep\", \"|\").csv(\"MovieLens.item\", header=False, schema=schema_items)"
      ]
    },
    {
      "cell_type": "code",
      "execution_count": 26,
      "metadata": {
        "id": "MC_m1oygCoEm",
        "colab": {
          "base_uri": "https://localhost:8080/"
        },
        "outputId": "b19d9eb2-a48f-4c53-c145-afc106e6c3ed"
      },
      "outputs": [
        {
          "output_type": "stream",
          "name": "stdout",
          "text": [
            "root\n",
            " |-- user_id: integer (nullable = true)\n",
            " |-- item_id: integer (nullable = true)\n",
            " |-- rating: integer (nullable = true)\n",
            " |-- timestamp: integer (nullable = true)\n",
            "\n"
          ]
        }
      ],
      "source": [
        "training.printSchema()"
      ]
    },
    {
      "cell_type": "code",
      "execution_count": 27,
      "metadata": {
        "id": "81Vgo4ovCqtQ",
        "colab": {
          "base_uri": "https://localhost:8080/"
        },
        "outputId": "7b1d6d55-cb1a-4148-d777-20a9b20be551"
      },
      "outputs": [
        {
          "output_type": "stream",
          "name": "stdout",
          "text": [
            "root\n",
            " |-- item_id: integer (nullable = true)\n",
            " |-- movie: string (nullable = true)\n",
            "\n"
          ]
        }
      ],
      "source": [
        "items.printSchema()"
      ]
    },
    {
      "cell_type": "markdown",
      "metadata": {
        "id": "CRaF2A_j_nC7"
      },
      "source": [
        "### Your task"
      ]
    },
    {
      "cell_type": "markdown",
      "metadata": {
        "id": "zM9w2aUvJ7KN"
      },
      "source": [
        "Let's compute some stats!  What is the number of ratings in the training and test dataset? How many movies are in our dataset?"
      ]
    },
    {
      "cell_type": "code",
      "execution_count": 28,
      "metadata": {
        "id": "8XZaH16t_CIw",
        "colab": {
          "base_uri": "https://localhost:8080/"
        },
        "outputId": "91b3176d-3f8f-4351-c6c7-b54acd5e1ba1"
      },
      "outputs": [
        {
          "output_type": "stream",
          "name": "stdout",
          "text": [
            "Number of ratings in the training dataset is 80000\n",
            "Number of movies in the training dataset is 1682\n",
            "Number of ratings in the test dataset is 20000\n"
          ]
        }
      ],
      "source": [
        "''' 3 lines of code in total expected.\n",
        "For sub-parts of the question (if any), creating different cells of code would be recommended.'''\n",
        "# YOUR CODE HERE\n",
        "print(\"Number of ratings in the training dataset is {}\".format(training.count()))\n",
        "print(\"Number of movies in the training dataset is {}\".format(items.count()))\n",
        "print(\"Number of ratings in the test dataset is {}\".format(test.count()))\n"
      ]
    },
    {
      "cell_type": "markdown",
      "metadata": {
        "id": "wpsaYOqRxar2"
      },
      "source": [
        "Using the training set, train a model with the Alternating Least Squares method available in the Spark MLlib: [https://spark.apache.org/docs/latest/ml-collaborative-filtering.html](https://spark.apache.org/docs/latest/ml-collaborative-filtering.html)"
      ]
    },
    {
      "cell_type": "code",
      "execution_count": 29,
      "metadata": {
        "id": "Oitav_xhQD9w"
      },
      "outputs": [],
      "source": [
        "''' 5-6 lines of code in total expected but can differ based on your style.\n",
        "For sub-parts of the question (if any), creating different cells of code would be recommended.'''\n",
        "# YOUR CODE HERE\n",
        "from pyspark.ml.evaluation import RegressionEvaluator\n",
        "from pyspark.ml.recommendation import ALS\n",
        "from pyspark.sql import Row\n",
        "\n",
        "als = ALS(maxIter=10,\n",
        "          regParam=0.01,\n",
        "          userCol=\"user_id\",\n",
        "          itemCol=\"item_id\",\n",
        "          ratingCol=\"rating\",\n",
        "          coldStartStrategy=\"drop\")\n",
        "model = als.fit(training)"
      ]
    },
    {
      "cell_type": "markdown",
      "metadata": {
        "id": "TtR1xRvonxiO"
      },
      "source": [
        "Now compute the RMSE on the test dataset.\n"
      ]
    },
    {
      "cell_type": "code",
      "execution_count": 30,
      "metadata": {
        "id": "GP23Xkgwi0SD",
        "colab": {
          "base_uri": "https://localhost:8080/"
        },
        "outputId": "cdebbfde-f125-458c-edfa-001dc29dc95a"
      },
      "outputs": [
        {
          "output_type": "stream",
          "name": "stdout",
          "text": [
            "Root Mean Square Error is 1.1475275397097804\n"
          ]
        }
      ],
      "source": [
        "''' 4-5 lines of code in total expected but can differ based on your style.\n",
        "For sub-parts of the question (if any), creating different cells of code would be recommended.'''\n",
        "# YOUR CODE HERE\n",
        "predictions = model.transform(test)\n",
        "evaluator = RegressionEvaluator(metricName=\"rmse\",\n",
        "                                labelCol=\"rating\",\n",
        "                                predictionCol=\"prediction\")\n",
        "rmse = evaluator.evaluate(predictions)\n",
        "print(\"Root Mean Square Error is {}\".format(rmse))"
      ]
    },
    {
      "cell_type": "markdown",
      "metadata": {
        "id": "lBvSaWGEMHXI"
      },
      "source": [
        "At this point, you can use the trained model to produce the top-K recommendations for each user."
      ]
    },
    {
      "cell_type": "code",
      "execution_count": 34,
      "metadata": {
        "id": "KbMlWL5_UfSc",
        "colab": {
          "base_uri": "https://localhost:8080/"
        },
        "outputId": "95359a91-cae5-4400-9508-aa5143bac65c"
      },
      "outputs": [
        {
          "output_type": "stream",
          "name": "stdout",
          "text": [
            "root\n",
            " |-- user_id: integer (nullable = false)\n",
            " |-- recommendations: array (nullable = true)\n",
            " |    |-- element: struct (containsNull = true)\n",
            " |    |    |-- item_id: integer (nullable = true)\n",
            " |    |    |-- rating: float (nullable = true)\n",
            "\n",
            "root\n",
            " |-- item_id: integer (nullable = false)\n",
            " |-- recommendations: array (nullable = true)\n",
            " |    |-- element: struct (containsNull = true)\n",
            " |    |    |-- user_id: integer (nullable = true)\n",
            " |    |    |-- rating: float (nullable = true)\n",
            "\n",
            "+-------+--------------------+\n",
            "|user_id|     recommendations|\n",
            "+-------+--------------------+\n",
            "|      1|[{1643, 6.1749716...|\n",
            "|      2|[{1643, 7.950439}...|\n",
            "|      3|[{960, 11.0016365...|\n",
            "|      4|[{1286, 11.734337...|\n",
            "|      5|[{965, 7.7149777}...|\n",
            "|      6|[{1643, 6.6955557...|\n",
            "|      7|[{1643, 8.93418},...|\n",
            "|      8|[{634, 6.703502},...|\n",
            "|      9|[{1167, 10.916779...|\n",
            "|     10|[{1449, 5.657461}...|\n",
            "|     11|[{1131, 5.5198197...|\n",
            "|     12|[{1282, 8.58633},...|\n",
            "|     13|[{1069, 8.249654}...|\n",
            "|     14|[{1066, 8.205125}...|\n",
            "|     15|[{1233, 7.8891616...|\n",
            "|     16|[{1643, 7.7188063...|\n",
            "|     17|[{836, 7.847461},...|\n",
            "|     18|[{361, 5.926404},...|\n",
            "|     19|[{816, 10.417351}...|\n",
            "|     20|[{1129, 10.500915...|\n",
            "+-------+--------------------+\n",
            "only showing top 20 rows\n",
            "\n",
            "+-------+--------------------+\n",
            "|item_id|     recommendations|\n",
            "+-------+--------------------+\n",
            "|      1|[{818, 7.048201},...|\n",
            "|      3|[{134, 8.56488}, ...|\n",
            "|      5|[{166, 5.9492817}...|\n",
            "|      6|[{93, 14.223921},...|\n",
            "|      9|[{302, 8.137452},...|\n",
            "|     12|[{400, 7.7448273}...|\n",
            "|     13|[{443, 7.1426888}...|\n",
            "|     15|[{688, 5.956315},...|\n",
            "|     16|[{229, 8.882578},...|\n",
            "|     17|[{39, 7.741411}, ...|\n",
            "|     19|[{258, 10.222529}...|\n",
            "|     20|[{93, 8.408919}, ...|\n",
            "|     22|[{811, 7.3757305}...|\n",
            "|     26|[{166, 6.3900433}...|\n",
            "|     27|[{688, 7.0123777}...|\n",
            "|     28|[{811, 6.064763},...|\n",
            "|     31|[{811, 6.8357744}...|\n",
            "|     34|[{231, 5.574565},...|\n",
            "|     35|[{739, 7.0756035}...|\n",
            "|     37|[{765, 7.43762}, ...|\n",
            "+-------+--------------------+\n",
            "only showing top 20 rows\n",
            "\n",
            "+-------+-------+----------+\n",
            "|user_id|item_id|    rating|\n",
            "+-------+-------+----------+\n",
            "|      1|   1643| 6.1749716|\n",
            "|      1|    613| 6.0603127|\n",
            "|      1|   1129|  5.818401|\n",
            "|      1|   1137|  5.704657|\n",
            "|      1|   1368|  5.624729|\n",
            "|      2|   1643|  7.950439|\n",
            "|      2|    361|   7.51134|\n",
            "|      2|    960| 7.1500344|\n",
            "|      2|   1085|  6.705936|\n",
            "|      2|    189|  6.689014|\n",
            "|      3|    960|11.0016365|\n",
            "|      3|   1311|  9.975314|\n",
            "|      3|    843|  9.670648|\n",
            "|      3|    564|  9.601717|\n",
            "|      3|    324|  9.287457|\n",
            "|      4|   1286| 11.734337|\n",
            "|      4|   1288| 10.555393|\n",
            "|      4|   1631|  9.627166|\n",
            "|      4|   1113|  9.536617|\n",
            "|      4|   1368|  9.407972|\n",
            "+-------+-------+----------+\n",
            "only showing top 20 rows\n",
            "\n",
            "+-------+-------+----------+-------+--------------------+\n",
            "|user_id|item_id|    rating|item_id|               movie|\n",
            "+-------+-------+----------+-------+--------------------+\n",
            "|      1|   1643| 6.1749716|   1643|   Angel Baby (1995)|\n",
            "|      1|    613| 6.0603127|    613|My Man Godfrey (1...|\n",
            "|      1|   1129|  5.818401|   1129|Chungking Express...|\n",
            "|      1|   1137|  5.704657|   1137|Beautiful Thing (...|\n",
            "|      1|   1368|  5.624729|   1368|Mina Tannenbaum (...|\n",
            "|      2|   1643|  7.950439|   1643|   Angel Baby (1995)|\n",
            "|      2|    361|   7.51134|    361|    Incognito (1997)|\n",
            "|      2|    960| 7.1500344|    960|        Naked (1993)|\n",
            "|      2|   1085|  6.705936|   1085| Carried Away (1996)|\n",
            "|      2|    189|  6.689014|    189|Grand Day Out, A ...|\n",
            "|      3|    960|11.0016365|    960|        Naked (1993)|\n",
            "|      3|   1311|  9.975314|   1311|Waiting to Exhale...|\n",
            "|      3|    843|  9.670648|    843|Shaggy Dog, The (...|\n",
            "|      3|    564|  9.601717|    564|Tales from the Ho...|\n",
            "|      3|    324|  9.287457|    324| Lost Highway (1997)|\n",
            "|      4|   1286| 11.734337|   1286|Shall We Dance? (...|\n",
            "|      4|   1288| 10.555393|   1288|Denise Calls Up (...|\n",
            "|      4|   1631|  9.627166|   1631|Slingshot, The (1...|\n",
            "|      4|   1113|  9.536617|   1113|Mrs. Parker and t...|\n",
            "|      4|   1368|  9.407972|   1368|Mina Tannenbaum (...|\n",
            "+-------+-------+----------+-------+--------------------+\n",
            "only showing top 20 rows\n",
            "\n"
          ]
        }
      ],
      "source": [
        "''' 9-10 lines of code in total expected but can differ based on your style.\n",
        "For sub-parts of the question (if any), creating different cells of code would be recommended.'''\n",
        "# YOUR CODE HERE\n",
        "top_k = 5\n",
        "\n",
        "userRecommendation = model.recommendForAllUsers(top_k)\n",
        "movieRecommendation = model.recommendForAllItems(top_k)\n",
        "userRecommendation.printSchema()\n",
        "movieRecommendation.printSchema()\n",
        "userRecommendation.show()\n",
        "movieRecommendation.show()\n",
        "explode_userRecommendation = userRecommendation.withColumn(\"recommendations\",\n",
        "                                    explode(col(\"recommendations\"))).select('user_id',\n",
        "                                                                            'recommendations.item_id',\n",
        "                                                                            'recommendations.rating')\n",
        "explode_userRecommendation.show()\n",
        "joint_explode_userRecommendation = explode_userRecommendation.join(items, explode_userRecommendation.item_id == items.item_id)\n",
        "joint_explode_userRecommendation.show()"
      ]
    },
    {
      "cell_type": "markdown",
      "metadata": {
        "id": "SIrXJyVNP2AI"
      },
      "source": [
        "Once you have working code for each cell above, **head over to Gradescope, carefully read the questions, and submit your solution for this Colab**!"
      ]
    }
  ],
  "metadata": {
    "colab": {
      "provenance": []
    },
    "kernelspec": {
      "display_name": "Python 3",
      "name": "python3"
    }
  },
  "nbformat": 4,
  "nbformat_minor": 0
}