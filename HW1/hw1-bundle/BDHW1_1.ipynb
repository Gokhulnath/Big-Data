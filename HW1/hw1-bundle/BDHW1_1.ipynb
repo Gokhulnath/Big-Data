{
  "nbformat": 4,
  "nbformat_minor": 0,
  "metadata": {
    "colab": {
      "provenance": []
    },
    "kernelspec": {
      "name": "python3",
      "display_name": "Python 3"
    },
    "language_info": {
      "name": "python"
    }
  },
  "cells": [
    {
      "cell_type": "code",
      "source": [
        "!pip install pyspark\n",
        "!pip install -U -q PyDrive\n",
        "!apt install openjdk-8-jdk-headless -qq\n",
        "import os\n",
        "os.environ[\"JAVA_HOME\"] = \"/usr/lib/jvm/java-8-openjdk-amd64\""
      ],
      "metadata": {
        "colab": {
          "base_uri": "https://localhost:8080/"
        },
        "id": "O_ekkleekSRz",
        "outputId": "318436a6-8306-4e5a-bdbe-143c3c083644"
      },
      "execution_count": 1,
      "outputs": [
        {
          "output_type": "stream",
          "name": "stdout",
          "text": [
            "Requirement already satisfied: pyspark in /usr/local/lib/python3.10/dist-packages (3.5.2)\n",
            "Requirement already satisfied: py4j==0.10.9.7 in /usr/local/lib/python3.10/dist-packages (from pyspark) (0.10.9.7)\n",
            "openjdk-8-jdk-headless is already the newest version (8u422-b05-1~22.04).\n",
            "0 upgraded, 0 newly installed, 0 to remove and 49 not upgraded.\n"
          ]
        }
      ]
    },
    {
      "cell_type": "code",
      "source": [
        "from pydrive.auth import GoogleAuth\n",
        "from pydrive.drive import GoogleDrive\n",
        "from google.colab import auth\n",
        "from oauth2client.client import GoogleCredentials\n",
        "\n",
        "# Authenticate and create the PyDrive client\n",
        "auth.authenticate_user()\n",
        "gauth = GoogleAuth()\n",
        "gauth.credentials = GoogleCredentials.get_application_default()\n",
        "drive = GoogleDrive(gauth)"
      ],
      "metadata": {
        "colab": {
          "base_uri": "https://localhost:8080/"
        },
        "id": "6CoK8XakxBlt",
        "outputId": "f41cfc5c-e6c1-488a-d98f-799e45de1ceb"
      },
      "execution_count": 2,
      "outputs": [
        {
          "output_type": "stream",
          "name": "stderr",
          "text": [
            "WARNING:root:pydrive is deprecated and no longer maintained. We recommend that you migrate your projects to pydrive2, the maintained fork of pydrive\n"
          ]
        }
      ]
    },
    {
      "cell_type": "code",
      "source": [
        "from pyspark.sql import *\n",
        "from pyspark.sql.functions import *\n",
        "from pyspark import SparkContext\n",
        "import pandas as pd\n",
        "\n",
        "# create the Spark Session\n",
        "spark = SparkSession.builder.getOrCreate()\n",
        "\n",
        "# create the Spark Context\n",
        "sc = spark.sparkContext"
      ],
      "metadata": {
        "id": "mLP73P62zmVk"
      },
      "execution_count": 70,
      "outputs": []
    },
    {
      "cell_type": "code",
      "source": [
        "def extract_friends(lines):\n",
        "  lines = lines.map(lambda line:line.split())\n",
        "  friends = lines.filter(lambda x:len(x)==2).map(lambda x:(x[0],x[1].split(\",\")))\n",
        "  return friends"
      ],
      "metadata": {
        "id": "Ey2SpSozCdjZ"
      },
      "execution_count": 71,
      "outputs": []
    },
    {
      "cell_type": "code",
      "source": [
        "def create_map(friends):\n",
        "  direct_connections = friends.flatMap(lambda entry: [((entry[0], friend), -999999) for friend in entry[1]])\n",
        "  mutual_connections = friends.flatMap(lambda entry: [(pair, 1) for pair in itertools.permutations(entry[1], 2)])\n",
        "  return direct_connections.union(mutual_connections)"
      ],
      "metadata": {
        "id": "MSuPJH2hCfi2"
      },
      "execution_count": 72,
      "outputs": []
    },
    {
      "cell_type": "code",
      "source": [
        "def get_sort_recommendation(combined_connections):\n",
        "  recommendations = combined_connections.reduceByKey(lambda x,y:x+y)\n",
        "  recommendations = recommendations.filter(lambda x: x[1] > 0).map(lambda x: (x[0][0], (x[1], x[0][1]))).groupByKey().mapValues(list)\n",
        "  recommendations = recommendations.map(lambda x: (x[0], sorted(x[1], key=lambda x: (-x[0], int(x[1]))))).map(lambda x: (x[0], x[1][:10])).map(lambda x: (x[0], [i[1] for i in x[1]]))\n",
        "  return recommendations.collect()"
      ],
      "metadata": {
        "id": "CIL_uAx6Cg0e"
      },
      "execution_count": 73,
      "outputs": []
    },
    {
      "cell_type": "code",
      "source": [
        "lines = sc.textFile(\"/content/soc-LiveJournal1Adj.txt\")\n",
        "friends = extract_friends(lines)\n",
        "combined_connections = create_map(friends)\n",
        "recommendation = get_sort_recommendation(combined_connections)\n",
        "recommendation_ouput = list(map(lambda x: str(x[0]) + \"\\t\" + \",\".join(map(str, x[1])), recommendation))\n",
        "sc.parallelize(recommendation_ouput).repartition(1).saveAsTextFile(\"output_complete_recommendation\")"
      ],
      "metadata": {
        "collapsed": true,
        "id": "8rbesnK_CjaA"
      },
      "execution_count": 74,
      "outputs": []
    },
    {
      "cell_type": "code",
      "source": [
        "user_ids = ['11','8997', '2791', '4985', '8961', '4049', '5060', '739', '1724', '9550', '3151']\n",
        "recommendation_rdd = sc.parallelize(recommendation_ouput)\n",
        "filtered_active_rdd = recommendation_rdd.filter(lambda x: x.split(\"\\t\")[0] in user_ids)\n",
        "filtered_active = filtered_active_rdd.collect()\n",
        "for rec in filtered_active:\n",
        "    user_id, friends = rec.split(\"\\t\")\n",
        "    print(f\"{user_id}\\t{friends.replace(',', ', ')}\\n\")\n",
        "sc.stop()"
      ],
      "metadata": {
        "colab": {
          "base_uri": "https://localhost:8080/"
        },
        "id": "sYwL6ieXDTkD",
        "outputId": "83403740-780e-4e30-abc6-1dd27ea07626"
      },
      "execution_count": 75,
      "outputs": [
        {
          "output_type": "stream",
          "name": "stdout",
          "text": [
            "9550\t9554, 9533, 9544, 9558, 153, 1220, 1421, 1436, 1951, 2413\n",
            "\n",
            "8997\t8998, 8987, 8992, 9001, 9003, 9009, 4849, 7174, 7279, 7364\n",
            "\n",
            "4985\t79, 577, 4839, 4984, 4986, 4987, 4988, 4989, 4990, 4991\n",
            "\n",
            "4049\t4871, 4875, 4889, 8492, 8685, 439, 660, 1100, 1137, 1156\n",
            "\n",
            "2791\t21185, 8783, 13280, 18359, 18363, 23667, 35740, 2204, 2786, 5996\n",
            "\n",
            "3151\t3161, 43162, 3230, 3450, 8692, 161, 2036, 3136, 3137, 3162\n",
            "\n",
            "1724\t1711, 1663, 1712, 1718, 1662, 1697, 1700, 1715, 1716, 1658\n",
            "\n",
            "5060\t5052, 5057, 5086, 14271, 98, 364, 575, 596, 611, 622\n",
            "\n",
            "11\t27552, 7785, 27573, 27574, 27589, 27590, 27600, 27617, 27620, 27667\n",
            "\n",
            "8961\t12241, 8973, 8965, 8963, 8966, 8967, 7174, 8969, 12243, 7177\n",
            "\n",
            "739\t732, 367, 381, 336, 21526, 28064, 677, 704, 728, 736\n",
            "\n"
          ]
        }
      ]
    }
  ]
}